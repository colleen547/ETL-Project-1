{
 "cells": [
  {
   "cell_type": "markdown",
   "metadata": {},
   "source": [
    "## Import Dependencies"
   ]
  },
  {
   "cell_type": "code",
   "execution_count": null,
   "metadata": {},
   "outputs": [],
   "source": [
    "import pandas as pd\n",
    "from sqlalchemy import create_engine\n",
    "from config2 import destination_zip, col_types"
   ]
  },
  {
   "cell_type": "markdown",
   "metadata": {},
   "source": [
    "## Extract CSVs into DataFrame\n"
   ]
  },
  {
   "cell_type": "code",
   "execution_count": null,
   "metadata": {},
   "outputs": [],
   "source": [
    "#Read csv into dataframe\n",
    "accidents_df = pd.read_csv(destination_zip)\n",
    "accidents_df.head()"
   ]
  },
  {
   "cell_type": "code",
   "execution_count": null,
   "metadata": {
    "scrolled": false
   },
   "outputs": [],
   "source": [
    "#Read csv into dataframe\n",
    "tesla_file = 'Resources/Tesla_Deaths.csv'\n",
    "tesla_df = pd.read_csv(tesla_file)\n",
    "tesla_df.head(2)"
   ]
  },
  {
   "cell_type": "markdown",
   "metadata": {},
   "source": [
    "## Transform U.S. Acccidents Dataframes"
   ]
  },
  {
   "cell_type": "code",
   "execution_count": null,
   "metadata": {},
   "outputs": [],
   "source": [
    "#create a filtered dataframe from specific columns\n",
    "accidents_cols = [\"Date\", \"Country\", \"State\", \"Temperature(F)\", \"Day_Night\"]\n",
    "accidents_transformed = accidents_df[accidents_cols].copy()\n",
    "\n",
    "#Change column names to lower case to avoid conflicts between python and sql when loading dataframes into databases\n",
    "accidents_transformed = accidents_transformed.rename(columns={\"Day_Night\": \"day_night\",\n",
    "                                                             \"Temperature(F)\": \"temperature\",\n",
    "                                                              \"Date\": \"date\",\n",
    "                                                              \"State\": \"state\",\n",
    "                                                              \"Country\": \"country\"\n",
    "                                                             })\n",
    "\n",
    "\n",
    "accidents_transformed.dropna(how=\"all\")\n",
    "\n",
    "accidents_transformed.head()"
   ]
  },
  {
   "cell_type": "markdown",
   "metadata": {},
   "source": [
    "## Transform Tesla Dataframes"
   ]
  },
  {
   "cell_type": "code",
   "execution_count": null,
   "metadata": {},
   "outputs": [],
   "source": [
    "#create a filtered dataframe from specific columns\n",
    "tesla_cols = [\"Date\", \" Country \", \" State \", \" Deaths \" ]\n",
    "tesla_transformed = tesla_df[tesla_cols].copy()\n",
    "\n",
    "#Change column names to lower case to avoid conflicts between python and sql when loading dataframes into databases\n",
    "tesla_transformed = tesla_transformed.rename(columns={\"Date\": \"date\",\n",
    "                                                     \" Country \": \"country\",\n",
    "                                                     \" State \": \"state\",\n",
    "                                                     \" Deaths \": \"deaths\"\n",
    "                                                     })\n",
    "\n",
    "\n",
    "tesla_transformed.dropna(how=\"all\")\n",
    "\n",
    "tesla_transformed.head()"
   ]
  },
  {
   "cell_type": "markdown",
   "metadata": {},
   "source": [
    "## Create database connection"
   ]
  },
  {
   "cell_type": "code",
   "execution_count": null,
   "metadata": {},
   "outputs": [],
   "source": [
    "connection_string = \"login:password@localhost:5432/etl_db\"\n",
    "engine = create_engine(f'postgresql://{connection_string}')"
   ]
  },
  {
   "cell_type": "code",
   "execution_count": null,
   "metadata": {},
   "outputs": [],
   "source": [
    "engine.table_names()"
   ]
  },
  {
   "cell_type": "markdown",
   "metadata": {},
   "source": [
    "## Load DataFrames into database"
   ]
  },
  {
   "cell_type": "code",
   "execution_count": null,
   "metadata": {},
   "outputs": [],
   "source": [
    "#Note: This took us 20-30 minutes to load into the database. It is a 25mb zip file. We did confirm it worked by running\n",
    "    #query code below.\n",
    "accidents_transformed.to_sql(name='us_accidents', con=engine, if_exists='append', index=True)"
   ]
  },
  {
   "cell_type": "code",
   "execution_count": null,
   "metadata": {},
   "outputs": [],
   "source": [
    "#Note: We received an index key error when running this code that we could not debug. However, we confirmed that that data\n",
    "    #did load into the database by running the query code below.\n",
    "tesla_transformed.to_sql(name='tesla_deaths', con=engine, if_exists='append', index=True)"
   ]
  },
  {
   "cell_type": "markdown",
   "metadata": {},
   "source": [
    "## Confirm DataFrames loaded into Database"
   ]
  },
  {
   "cell_type": "code",
   "execution_count": null,
   "metadata": {},
   "outputs": [],
   "source": [
    "pd.read_sql_query('select * from us_accidents', con=engine).head()"
   ]
  },
  {
   "cell_type": "code",
   "execution_count": null,
   "metadata": {},
   "outputs": [],
   "source": [
    "pd.read_sql_query('select * from tesla_deaths', con=engine).head()"
   ]
  }
 ],
 "metadata": {
  "kernelspec": {
   "display_name": "Python 3",
   "language": "python",
   "name": "python3"
  },
  "language_info": {
   "codemirror_mode": {
    "name": "ipython",
    "version": 3
   },
   "file_extension": ".py",
   "mimetype": "text/x-python",
   "name": "python",
   "nbconvert_exporter": "python",
   "pygments_lexer": "ipython3",
   "version": "3.6.10"
  }
 },
 "nbformat": 4,
 "nbformat_minor": 4
}
